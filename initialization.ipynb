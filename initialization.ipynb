{
 "cells": [
  {
   "cell_type": "markdown",
   "metadata": {},
   "source": [
    "## Notebook di inizializzazione"
   ]
  },
  {
   "cell_type": "code",
   "execution_count": 1,
   "metadata": {},
   "outputs": [
    {
     "name": "stdout",
     "output_type": "stream",
     "text": [
      "Requirement already satisfied: numpy==1.18.1 in /opt/anaconda3/lib/python3.7/site-packages (from -r requirements.txt (line 1)) (1.18.1)\r\n",
      "Requirement already satisfied: pandas==1.0.1 in /opt/anaconda3/lib/python3.7/site-packages (from -r requirements.txt (line 2)) (1.0.1)\r\n",
      "Requirement already satisfied: scikit-learn==0.22.1 in /opt/anaconda3/lib/python3.7/site-packages (from -r requirements.txt (line 3)) (0.22.1)\r\n",
      "Requirement already satisfied: python-dateutil>=2.6.1 in /opt/anaconda3/lib/python3.7/site-packages (from pandas==1.0.1->-r requirements.txt (line 2)) (2.8.1)\r\n",
      "Requirement already satisfied: pytz>=2017.2 in /opt/anaconda3/lib/python3.7/site-packages (from pandas==1.0.1->-r requirements.txt (line 2)) (2019.3)\r\n",
      "Requirement already satisfied: scipy>=0.17.0 in /opt/anaconda3/lib/python3.7/site-packages (from scikit-learn==0.22.1->-r requirements.txt (line 3)) (1.4.1)\r\n",
      "Requirement already satisfied: joblib>=0.11 in /opt/anaconda3/lib/python3.7/site-packages (from scikit-learn==0.22.1->-r requirements.txt (line 3)) (0.14.1)\r\n",
      "Requirement already satisfied: six>=1.5 in /opt/anaconda3/lib/python3.7/site-packages (from python-dateutil>=2.6.1->pandas==1.0.1->-r requirements.txt (line 2)) (1.14.0)\r\n"
     ]
    }
   ],
   "source": [
    "!pip install -r requirements.txt"
   ]
  },
  {
   "cell_type": "code",
   "execution_count": 2,
   "metadata": {},
   "outputs": [],
   "source": [
    "from numpy.random import RandomState\n",
    "import pandas as pd"
   ]
  },
  {
   "cell_type": "markdown",
   "metadata": {},
   "source": [
    "#### Leggo dal Dataset centrale i dati e li suddivido, randomicamente, in Training data e Test data"
   ]
  },
  {
   "cell_type": "code",
   "execution_count": 3,
   "metadata": {},
   "outputs": [],
   "source": [
    "# Estraggo dal file presente al path indicato il Dataset corrispondente\n",
    "path_file = './appointment_data.csv'\n",
    "dataset = pd.read_csv(path_file)\n",
    "\n",
    "# Genero randomicamente i due Dataset di training e di test\n",
    "rng = RandomState()\n",
    "train = dataset.sample(frac=0.8, random_state=rng)\n",
    "test = dataset.loc[~dataset.index.isin(train.index)]"
   ]
  },
  {
   "cell_type": "markdown",
   "metadata": {},
   "source": [
    "#### Creo due file, train.csv e test.csv, contenenti rispettivamente i dati di training e quelli di test"
   ]
  },
  {
   "cell_type": "code",
   "execution_count": 4,
   "metadata": {},
   "outputs": [],
   "source": [
    "# scrivo su disco due file csv, train.csv e test.csv\n",
    "# contenenti rispettivamente i dati di training e i dati di test\n",
    "train.to_csv('./train.csv', index=False)\n",
    "test.to_csv('./test.csv', index=False)"
   ]
  },
  {
   "cell_type": "code",
   "execution_count": null,
   "metadata": {},
   "outputs": [],
   "source": []
  },
  {
   "cell_type": "code",
   "execution_count": null,
   "metadata": {},
   "outputs": [],
   "source": []
  },
  {
   "cell_type": "code",
   "execution_count": null,
   "metadata": {},
   "outputs": [],
   "source": []
  }
 ],
 "metadata": {
  "kernelspec": {
   "display_name": "Python 3",
   "language": "python",
   "name": "python3"
  },
  "language_info": {
   "codemirror_mode": {
    "name": "ipython",
    "version": 3
   },
   "file_extension": ".py",
   "mimetype": "text/x-python",
   "name": "python",
   "nbconvert_exporter": "python",
   "pygments_lexer": "ipython3",
   "version": "3.7.6"
  }
 },
 "nbformat": 4,
 "nbformat_minor": 4
}
